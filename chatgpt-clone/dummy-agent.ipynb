{
 "cells": [
  {
   "cell_type": "code",
   "execution_count": 1,
   "id": "54cdb8e0",
   "metadata": {},
   "outputs": [],
   "source": [
    "from agents import Agent, Runner, function_tool, SQLiteSession\n",
    "\n",
    "session = SQLiteSession(\"user_1\", \"ai-memory.db\")\n",
    "\n",
    "\n",
    "@function_tool\n",
    "def get_weather(city: str):\n",
    "    \"\"\"Get weather by city\"\"\"\n",
    "    return \"30 degrees\"\n",
    "\n",
    "\n",
    "agent = Agent(\n",
    "    name=\"Assistant Agent\",\n",
    "    instructions=\"You are a helpful assistant. Use tools when needed to answer question\",\n",
    "    tools=[get_weather],\n",
    ")"
   ]
  },
  {
   "cell_type": "code",
   "execution_count": 4,
   "id": "85bd8636",
   "metadata": {},
   "outputs": [
    {
     "name": "stdout",
     "output_type": "stream",
     "text": [
      "The current weather in Seoul, the capital of South Korea, is 30 degrees Celsius. If you need more details or a forecast, just let me know!\n"
     ]
    }
   ],
   "source": [
    "# Runner\n",
    "result = await Runner.run(\n",
    "    agent,\n",
    "    # \"Hello, how are you? My name is Jimin\",\n",
    "    # \"I live in Korea\",\n",
    "    \"What is the weather in the capital of the country I live on\",\n",
    "    session=session,\n",
    ")\n",
    "\n",
    "print(result.final_output)"
   ]
  },
  {
   "cell_type": "code",
   "execution_count": 5,
   "id": "5d5ea8fa",
   "metadata": {},
   "outputs": [
    {
     "name": "stdout",
     "output_type": "stream",
     "text": [
      "You haven’t told me your name yet. If you’d like, you can let me know your name, and I’ll remember it for our conversation!\n"
     ]
    }
   ],
   "source": [
    "session = SQLiteSession(\"user_2\", \"ai-memory.db\")\n",
    "\n",
    "agent = Agent(\n",
    "    name=\"Assistant Agent\",\n",
    "    instructions=\"You are a helpful assistant. Use tools when needed to answer question\",\n",
    "    tools=[get_weather],\n",
    ")\n",
    "\n",
    "result = await Runner.run(\n",
    "    agent,\n",
    "    \"What was my name?\",\n",
    "    session=session,\n",
    ")\n",
    "\n",
    "print(result.final_output)"
   ]
  },
  {
   "cell_type": "code",
   "execution_count": null,
   "id": "5039193a",
   "metadata": {},
   "outputs": [
    {
     "name": "stdout",
     "output_type": "stream",
     "text": [
      "As a developer, you write and build software or applications to solve problems or create digital products.\n"
     ]
    }
   ],
   "source": [
    "# await session.clear_session()\n",
    "await session.add_items([{\"role\": \"user\", \"content\": \"I'm developer\"}])\n",
    "\n",
    "result = await Runner.run(\n",
    "    agent,\n",
    "    \"What kind of work do I do? simply\",\n",
    "    session=session,\n",
    ")\n",
    "\n",
    "print(result.final_output)"
   ]
  },
  {
   "cell_type": "code",
   "execution_count": 11,
   "id": "41c4afc8",
   "metadata": {},
   "outputs": [
    {
     "data": {
      "text/plain": [
       "{'id': 'msg_68d0cc3557688193b4d3c25cd76e1ff6003800ab3f643751',\n",
       " 'content': [{'annotations': [],\n",
       "   'text': 'As a developer, you write and build software or applications to solve problems or create digital products.',\n",
       "   'type': 'output_text',\n",
       "   'logprobs': []}],\n",
       " 'role': 'assistant',\n",
       " 'status': 'completed',\n",
       " 'type': 'message'}"
      ]
     },
     "execution_count": 11,
     "metadata": {},
     "output_type": "execute_result"
    }
   ],
   "source": [
    "await session.pop_item()"
   ]
  },
  {
   "cell_type": "markdown",
   "id": "74e97a74",
   "metadata": {},
   "source": [
    "https://openai.github.io/openai-agents-python/sessions/#custom-memory-implementations\n"
   ]
  }
 ],
 "metadata": {
  "kernelspec": {
   "display_name": ".venv",
   "language": "python",
   "name": "python3"
  },
  "language_info": {
   "codemirror_mode": {
    "name": "ipython",
    "version": 3
   },
   "file_extension": ".py",
   "mimetype": "text/x-python",
   "name": "python",
   "nbconvert_exporter": "python",
   "pygments_lexer": "ipython3",
   "version": "3.13.2"
  }
 },
 "nbformat": 4,
 "nbformat_minor": 5
}
